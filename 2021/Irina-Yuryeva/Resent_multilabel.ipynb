{
  "nbformat": 4,
  "nbformat_minor": 0,
  "metadata": {
    "colab": {
      "name": "Resent_multilabel",
      "provenance": [],
      "collapsed_sections": []
    },
    "kernelspec": {
      "name": "python3",
      "display_name": "Python 3"
    },
    "accelerator": "GPU"
  },
  "cells": [
    {
      "cell_type": "code",
      "source": [
        "!pip install nilearn "
      ],
      "metadata": {
        "colab": {
          "base_uri": "https://localhost:8080/"
        },
        "id": "x8G3ysivnu3J",
        "outputId": "7e1065a8-b68c-46c8-9500-60f1ef6e7ca4"
      },
      "execution_count": 1,
      "outputs": [
        {
          "output_type": "stream",
          "name": "stdout",
          "text": [
            "Collecting nilearn\n",
            "  Downloading nilearn-0.9.0-py3-none-any.whl (10.1 MB)\n",
            "\u001b[K     |████████████████████████████████| 10.1 MB 4.8 MB/s \n",
            "\u001b[?25hRequirement already satisfied: requests>=2 in /usr/local/lib/python3.7/dist-packages (from nilearn) (2.23.0)\n",
            "Requirement already satisfied: scipy>=1.2 in /usr/local/lib/python3.7/dist-packages (from nilearn) (1.4.1)\n",
            "Requirement already satisfied: pandas>=0.24.0 in /usr/local/lib/python3.7/dist-packages (from nilearn) (1.3.5)\n",
            "Requirement already satisfied: numpy>=1.16 in /usr/local/lib/python3.7/dist-packages (from nilearn) (1.21.5)\n",
            "Requirement already satisfied: nibabel>=2.5 in /usr/local/lib/python3.7/dist-packages (from nilearn) (3.0.2)\n",
            "Requirement already satisfied: joblib>=0.12 in /usr/local/lib/python3.7/dist-packages (from nilearn) (1.1.0)\n",
            "Requirement already satisfied: scikit-learn>=0.21 in /usr/local/lib/python3.7/dist-packages (from nilearn) (1.0.2)\n",
            "Requirement already satisfied: pytz>=2017.3 in /usr/local/lib/python3.7/dist-packages (from pandas>=0.24.0->nilearn) (2018.9)\n",
            "Requirement already satisfied: python-dateutil>=2.7.3 in /usr/local/lib/python3.7/dist-packages (from pandas>=0.24.0->nilearn) (2.8.2)\n",
            "Requirement already satisfied: six>=1.5 in /usr/local/lib/python3.7/dist-packages (from python-dateutil>=2.7.3->pandas>=0.24.0->nilearn) (1.15.0)\n",
            "Requirement already satisfied: urllib3!=1.25.0,!=1.25.1,<1.26,>=1.21.1 in /usr/local/lib/python3.7/dist-packages (from requests>=2->nilearn) (1.24.3)\n",
            "Requirement already satisfied: idna<3,>=2.5 in /usr/local/lib/python3.7/dist-packages (from requests>=2->nilearn) (2.10)\n",
            "Requirement already satisfied: certifi>=2017.4.17 in /usr/local/lib/python3.7/dist-packages (from requests>=2->nilearn) (2021.10.8)\n",
            "Requirement already satisfied: chardet<4,>=3.0.2 in /usr/local/lib/python3.7/dist-packages (from requests>=2->nilearn) (3.0.4)\n",
            "Requirement already satisfied: threadpoolctl>=2.0.0 in /usr/local/lib/python3.7/dist-packages (from scikit-learn>=0.21->nilearn) (3.1.0)\n",
            "Installing collected packages: nilearn\n",
            "Successfully installed nilearn-0.9.0\n"
          ]
        }
      ]
    },
    {
      "metadata": {
        "id": "ztddXviIW2g4",
        "colab": {
          "base_uri": "https://localhost:8080/"
        },
        "outputId": "3681945b-fd03-47ca-ed75-b571d5791276"
      },
      "cell_type": "code",
      "source": [
        "import numpy as np\n",
        "import pandas as pd\n",
        "import matplotlib.pyplot as plt\n",
        "import torch\n",
        "from torch import nn\n",
        "import torch.nn.functional as F\n",
        "from torchvision import datasets ,models , transforms\n",
        "import json\n",
        "from torch.utils.data import Dataset, DataLoader ,random_split\n",
        "from PIL import Image\n",
        "from pathlib import Path\n",
        "\n",
        "import nibabel as nb\n",
        "from sklearn.model_selection import train_test_split\n",
        "from matplotlib import pyplot as plt\n",
        "classLabels = [\n",
        "               \"liver\", \n",
        "               \"kidney-r\", \n",
        "               \"kidney-l\", \n",
        "               \"femur-r\", \n",
        "               \"femur-l\", \n",
        "               \"bladder\",\n",
        "               \"heart\",\n",
        "               \"lung-r\",\n",
        "               \"lung-l\",\n",
        "               \"spleen\",\n",
        "               \"pancreas\",\n",
        "               ]\n",
        "print(torch.__version__)"
      ],
      "execution_count": 2,
      "outputs": [
        {
          "output_type": "stream",
          "name": "stdout",
          "text": [
            "1.10.0+cu111\n"
          ]
        }
      ]
    },
    {
      "cell_type": "code",
      "source": [
        "from google.colab import drive\n",
        "drive.mount('/content/drive')"
      ],
      "metadata": {
        "colab": {
          "base_uri": "https://localhost:8080/"
        },
        "id": "6HgesbVmaeOa",
        "outputId": "165919b4-9808-4295-9ef4-ca823bbde792"
      },
      "execution_count": 3,
      "outputs": [
        {
          "output_type": "stream",
          "name": "stdout",
          "text": [
            "Mounted at /content/drive\n"
          ]
        }
      ]
    },
    {
      "metadata": {
        "id": "rnc6UsAG19VK"
      },
      "cell_type": "markdown",
      "source": [
        "### Prepare data"
      ]
    },
    {
      "metadata": {
        "id": "qrHYrJ4x17x7"
      },
      "cell_type": "code",
      "source": [
        "df = pd.read_csv(\n",
        "    \"/content/drive/MyDrive/LITS_all_train/train_multilabel.csv\", \n",
        "\n",
        "    )\n",
        "\n",
        "# train_df = df[df.index.isin(set(range(2, 11)))]\n",
        "# test_df = df[df.index.isin(set(range(20, 24)))]\n"
      ],
      "execution_count": 5,
      "outputs": []
    },
    {
      "metadata": {
        "id": "7glzuGwWtYYM"
      },
      "cell_type": "markdown",
      "source": [
        "\n",
        "\n",
        "## Model Definition"
      ]
    },
    {
      "cell_type": "code",
      "source": [
        "transform = transforms.Compose([\n",
        "                                transforms.ToPILImage(),\n",
        "                                transforms.Resize((256,256)), \n",
        "                                transforms.ToTensor(),\n",
        "                                # transforms.Normalize((0.5, 0.5, 0.5), (0.5, 0.5, 0.5))\n",
        "                               ])"
      ],
      "metadata": {
        "id": "i2G7oA-TUrEH"
      },
      "execution_count": 6,
      "outputs": []
    },
    {
      "metadata": {
        "id": "5ZTEIyplvptV",
        "outputId": "66b6d4c6-45c7-4c44-f0a3-e3f5fb63763f",
        "colab": {
          "base_uri": "https://localhost:8080/"
        }
      },
      "cell_type": "code",
      "source": [
        "model = models.resnet18(pretrained=False) \n",
        "num_features = model.fc.in_features \n",
        "# print(num_features)\n",
        "\n",
        "# for param in model.parameters():\n",
        "#   param.requires_grad_(False)"
      ],
      "execution_count": 7,
      "outputs": [
        {
          "output_type": "stream",
          "name": "stdout",
          "text": [
            "512\n"
          ]
        }
      ]
    },
    {
      "metadata": {
        "id": "m-PFggOApbxG"
      },
      "cell_type": "code",
      "source": [
        "def create_head(num_features , number_classes ,dropout_prob=0.5 ,activation_func =nn.ReLU):\n",
        "  features_lst = [num_features , num_features//2 , num_features//4]\n",
        "  layers = []\n",
        "  for in_f ,out_f in zip(features_lst[:-1] , features_lst[1:]):\n",
        "    layers.append(nn.Linear(in_f , out_f))\n",
        "    layers.append(activation_func())\n",
        "    layers.append(nn.BatchNorm1d(out_f))\n",
        "    if dropout_prob !=0 : layers.append(nn.Dropout(dropout_prob))\n",
        "  layers.append(nn.Linear(features_lst[-1] , number_classes))\n",
        "  return nn.Sequential(*layers)\n",
        "\n",
        "top_head = create_head(num_features , len(classLabels)) \n",
        "model.fc = top_head \n",
        "\n",
        "import torch.optim as optim\n",
        "from torch.optim import lr_scheduler\n",
        "\n",
        "device = torch.device(\"cuda\" if torch.cuda.is_available() else \"cpu\")\n",
        "model = model.to(device)\n",
        "\n",
        "criterion = nn.BCEWithLogitsLoss()\n",
        "optimizer = optim.Adam(model.parameters(), lr=0.001)\n",
        "# sgdr_partial = lr_scheduler.CosineAnnealingLR(optimizer, T_max=5, eta_min=0.005 )\n",
        "exp_lr_scheduler = lr_scheduler.StepLR(optimizer, step_size=5, gamma=0.1)"
      ],
      "execution_count": 8,
      "outputs": []
    },
    {
      "cell_type": "markdown",
      "source": [
        "## Model norm\n"
      ],
      "metadata": {
        "id": "TX1hyH_Jpg4n"
      }
    },
    {
      "metadata": {
        "id": "ouG5ipD0FP2E"
      },
      "cell_type": "markdown",
      "source": [
        "## Training"
      ]
    },
    {
      "metadata": {
        "id": "dU2Cm2FaxQ9_"
      },
      "cell_type": "code",
      "source": [
        "from tqdm import trange\n",
        "from tqdm import tqdm\n",
        "from sklearn.metrics import precision_score,f1_score\n",
        "import copy\n",
        "\n",
        "    # label = torch.tensor(row[1:12].tolist() , dtype=torch.float32)\n",
        "    # image = np.expand_dims(image,axis=2)\n",
        "    # image = np.repeat(image, 3, axis=2).T\n",
        "    # image = torch.as_tensor(image, dtype=torch.float)\n",
        "    # # print(image.shape)\n",
        "\n",
        "    # if self.transforms is not None:\n",
        "    #   image = self.transforms(image)\n",
        "\n",
        "\n",
        "def get_batch(df, idx, idx_end):\n",
        "  img_3d = nb.load(df.iloc[idx]['img_path']).get_fdata()\n",
        "  batch_img = []\n",
        "  batch_lbl = []\n",
        "  for i in range(idx, idx_end):\n",
        "    row = df.iloc[idx]\n",
        "    if row['xyz'] == 'x':\n",
        "      image = img_3d[row['coord'],:,:]\n",
        "    if row['xyz'] == 'y':\n",
        "      image = img_3d[:, row['coord'],:]\n",
        "    if row['xyz'] == 'z':\n",
        "      image = img_3d[:,:,row['coord']]    \n",
        "\n",
        "    label = torch.tensor(row[1:12].tolist() , dtype=torch.float32)\n",
        "\n",
        "    image = np.expand_dims(image,axis=2)\n",
        "    image = np.repeat(image, 3, axis=2).T\n",
        "    image = torch.as_tensor(image, dtype=torch.float)\n",
        "    image = transform(image)\n",
        "    batch_img.append(image)\n",
        "    batch_lbl.append(label)\n",
        "  yield  (\n",
        "      torch.stack(batch_img),\n",
        "      torch.stack(batch_lbl)\n",
        "  )\n",
        "\n",
        "\n",
        "\n",
        "def train(model, df, batch_size, criterion , optimizer ,scheduler, num_epochs=5):\n",
        "  df = df.copy()\n",
        "  df[\"person\"] = df[\"person\"].astype(int)\n",
        "  train_df = df[df['person'].isin(set(range(0, 20)))]\n",
        "  test_df = df[df['person'].isin(set(range(20, 25)))]\n",
        "\n",
        "  best_model_wts = copy.deepcopy(model.state_dict())\n",
        "  best_acc = 0.0\n",
        "  for epoch in trange(num_epochs,desc=\"Epochs\"):\n",
        "    result = []\n",
        "    for phase in ['train', 'val']:\n",
        "      if phase==\"train\":     # put the model in training mode\n",
        "        model.train()\n",
        "        len_data_train = 0\n",
        "      else:     # put the model in validation mode\n",
        "        model.eval()\n",
        "        len_data_test = 0\n",
        "\n",
        "      # keep track of training and validation loss\n",
        "      running_loss = 0.0\n",
        "      running_corrects = 0.0  \n",
        "      if phase == 'train':\n",
        "        df_t = train_df.copy()\n",
        "      else:\n",
        "        df_t = test_df.copy()\n",
        "\n",
        "  \n",
        "      for i in range(0, df_t.shape[0], batch_size):\n",
        "        if i + batch_size< df_t.shape[0]:\n",
        "          if df_t.iloc[i]['person'] == df_t.iloc[i + batch_size][\"person\"]:\n",
        "            batch = get_batch(df_t, i, i + batch_size)\n",
        "            if phase == 'train':\n",
        "              len_data_train += batch_size\n",
        "            else:\n",
        "              len_data_test += batch_size\n",
        "          else:\n",
        "            continue\n",
        "          for data, target in batch:\n",
        "          # for data, target in tqdm(dataloader[phase]):\n",
        "              #load the data and target to respective device\n",
        "\n",
        "              data, target = data.to(device)  , target.to(device)\n",
        "\n",
        "              with torch.set_grad_enabled(phase==\"train\"):\n",
        "                optimizer.zero_grad()\n",
        "\n",
        "                output = model(data)\n",
        "                loss = criterion(output,target)\n",
        "                preds = torch.sigmoid(output).data > 0.5\n",
        "                preds = preds.to(torch.float32)\n",
        "                \n",
        "                if phase==\"train\"  :\n",
        "      \n",
        "                  loss.backward()\n",
        "\n",
        "                  optimizer.step()\n",
        "                running_loss += loss.item() * data.size(0)\n",
        "                score = f1_score(target.to(\"cpu\").to(torch.int).numpy() ,preds.to(\"cpu\").to(torch.int).numpy() , average=\"samples\")  * data.size(0)\n",
        "                running_corrects += score\n",
        "\n",
        "          if phase==\"train\":\n",
        "              scheduler.step()\n",
        "              \n",
        "              # print(score)\n",
        "        \n",
        "      if phase == 'train':\n",
        "        epoch_loss = running_loss / len_data_train\n",
        "        epoch_acc = running_corrects / len_data_train\n",
        "      else:\n",
        "        epoch_loss = running_loss / len_data_test\n",
        "        epoch_acc = running_corrects / len_data_test\n",
        "        if epoch_acc > best_acc:\n",
        "          best_acc = epoch_acc\n",
        "          best_model_wts = copy.deepcopy(model.state_dict())\n",
        "      result.append('{} Loss: {:.4f} Acc: {:.4f}'.format(phase, epoch_loss, epoch_acc))\n",
        "      print(result)\n",
        "\n",
        "  print(f'Best val Acc: {best_acc:4f}')\n",
        "  model.load_state_dict(best_model_wts)"
      ],
      "execution_count": null,
      "outputs": []
    },
    {
      "metadata": {
        "id": "IhNSXF6My13R",
        "outputId": "1570acc3-87b3-4486-b1bc-2be737a5f616",
        "colab": {
          "base_uri": "https://localhost:8080/"
        }
      },
      "cell_type": "code",
      "source": [
        "train(model, df, 128, criterion, optimizer,exp_lr_scheduler, num_epochs=5)"
      ],
      "execution_count": null,
      "outputs": [
        {
          "output_type": "stream",
          "name": "stderr",
          "text": [
            "\rEpochs:   0%|          | 0/5 [00:00<?, ?it/s]"
          ]
        }
      ]
    },
    {
      "metadata": {
        "id": "6mBwEPpAGRQI"
      },
      "cell_type": "markdown",
      "source": [
        "## Saving & Loading model"
      ]
    },
    {
      "metadata": {
        "id": "fpL_Cc3jDqHP"
      },
      "cell_type": "code",
      "source": [
        "def createCheckpoint(filename=Path(\"/content/resnet_epoch4_my.pt\")):\n",
        "  checkpoint = {\n",
        "              'epoch': 6,\n",
        "              'model_state_dict': model.state_dict(),\n",
        "              'optimizer_state_dict': optimizer.state_dict(),\n",
        "              \"batch_size\":64,\n",
        "  } # save all important stuff\n",
        "  torch.save(checkpoint , filename, _use_new_zipfile_serialization=False)\n",
        "createCheckpoint()"
      ],
      "execution_count": 34,
      "outputs": []
    },
    {
      "cell_type": "code",
      "source": [
        "import copy\n",
        "\n",
        "best_model_wts = copy.deepcopy(model.state_dict())\n",
        "torch.save(best_model_wts, '/content/resnet_epoch4_ira.pt')\n"
      ],
      "metadata": {
        "id": "tDKajfd-oRaN"
      },
      "execution_count": 35,
      "outputs": []
    },
    {
      "cell_type": "code",
      "source": [
        "model.load_state_dict(torch.load('/content/resnet_epoch4_ira.pt'))"
      ],
      "metadata": {
        "colab": {
          "base_uri": "https://localhost:8080/"
        },
        "id": "-afvIOWG2QtW",
        "outputId": "ed12dc4d-422a-43b7-cd84-34b692405dc6"
      },
      "execution_count": 38,
      "outputs": [
        {
          "output_type": "execute_result",
          "data": {
            "text/plain": [
              "<All keys matched successfully>"
            ]
          },
          "metadata": {},
          "execution_count": 38
        }
      ]
    },
    {
      "metadata": {
        "id": "fmqugVCTFd8W",
        "outputId": "88fe3a98-3758-4e34-b52e-1b3daafb72e5",
        "colab": {
          "base_uri": "https://localhost:8080/"
        }
      },
      "cell_type": "code",
      "source": [
        "# Load\n",
        "'''\n",
        "First Intialize the model and then just load it\n",
        "model = TheModelClass(*args, **kwargs)\n",
        "optimizer = TheOptimizerClass(*args, **kwargs)\n",
        "\n",
        "'''\n",
        "\n",
        "checkpoint = torch.load(Path(\"/content/LatestCheckpoint_epoch1_new.pt\"), map_location=torch.device('cpu'))\n",
        "model.load_state_dict(checkpoint) #['model_state_dict']\n",
        "# optimizer.load_state_dict(checkpoint['optimizer_state_dict'])\n",
        "# epoch = checkpoint['epoch']\n",
        "# batch_size = checkpoint['batch_size']\n",
        "\n",
        "model.eval() ## or model.train()\n",
        "optimizer"
      ],
      "execution_count": null,
      "outputs": [
        {
          "output_type": "execute_result",
          "data": {
            "text/plain": [
              "Adam (\n",
              "Parameter Group 0\n",
              "    amsgrad: False\n",
              "    betas: (0.9, 0.999)\n",
              "    eps: 1e-08\n",
              "    initial_lr: 0.01\n",
              "    lr: 0.00952254248593742\n",
              "    weight_decay: 0\n",
              ")"
            ]
          },
          "metadata": {},
          "execution_count": 36
        }
      ]
    },
    {
      "cell_type": "code",
      "source": [
        "test_img = df[df.index == 11]\n",
        "row = test_img.iloc[150]\n",
        "img_data = nb.load(row['img_path'])\n",
        "img_3d = img_data.get_fdata()\n",
        "if row['xyz'] == 'x':\n",
        "  image = img_3d[row['coord'],:,:]\n",
        "if row['xyz'] == 'y':\n",
        "  image = img_3d[:, row['coord'],:]\n",
        "if row['xyz'] == 'z':\n",
        "  image = img_3d[:,:,row['coord']]"
      ],
      "metadata": {
        "id": "YiUZdqF8C55x"
      },
      "execution_count": null,
      "outputs": []
    },
    {
      "cell_type": "code",
      "source": [
        "def predict_one(image):\n",
        "  image = np.expand_dims(image,axis=2)\n",
        "  image = np.repeat(image, 3, axis=2).T\n",
        "  image = torch.as_tensor(image, dtype=torch.float)\n",
        "\n",
        "  image = transform(image)\n",
        "  image = image.to(device)\n",
        "  preds = model(image.unsqueeze(0))\n",
        "  preds = (torch.sigmoid(preds).data > 0.5).type(torch.uint8) \n",
        "  return [name for pred, name in zip(preds, classLabels)]"
      ],
      "metadata": {
        "id": "hJwHVi9kgZ8i"
      },
      "execution_count": null,
      "outputs": []
    },
    {
      "cell_type": "code",
      "source": [
        "predict_one(image)"
      ],
      "metadata": {
        "colab": {
          "base_uri": "https://localhost:8080/"
        },
        "id": "Vy_pTtmnnQ7_",
        "outputId": "864a9a17-7da6-4662-a100-58c3ba42a661"
      },
      "execution_count": null,
      "outputs": [
        {
          "output_type": "execute_result",
          "data": {
            "text/plain": [
              "['liver']"
            ]
          },
          "metadata": {},
          "execution_count": 47
        }
      ]
    },
    {
      "cell_type": "code",
      "source": [
        "plt.imshow(image.T, cmap=\"Greys_r\", origin=\"lower\")"
      ],
      "metadata": {
        "colab": {
          "base_uri": "https://localhost:8080/",
          "height": 282
        },
        "id": "0baDIopFnXQQ",
        "outputId": "ee2e13f8-7d6c-4a5e-990f-31508fca0b9b"
      },
      "execution_count": null,
      "outputs": [
        {
          "output_type": "execute_result",
          "data": {
            "text/plain": [
              "<matplotlib.image.AxesImage at 0x7fc602d4fc90>"
            ]
          },
          "metadata": {},
          "execution_count": 50
        },
        {
          "output_type": "display_data",
          "data": {
            "text/plain": [
              "<Figure size 432x288 with 1 Axes>"
            ],
            "image/png": "[encoded data removed]"
          },
          "metadata": {
            "needs_background": "light"
          }
        }
      ]
    },
    {
      "cell_type": "code",
      "source": [
        "true_val = row[:11].values\n",
        "[name for true, name in zip(true_val, classLabels) if true]"
      ],
      "metadata": {
        "colab": {
          "base_uri": "https://localhost:8080/"
        },
        "id": "ZYX5_Szrn3Gp",
        "outputId": "7b26379a-bbdd-4f61-f136-81b48d38ec22"
      },
      "execution_count": null,
      "outputs": [
        {
          "output_type": "execute_result",
          "data": {
            "text/plain": [
              "['liver', 'kidney-r']"
            ]
          },
          "metadata": {},
          "execution_count": 56
        }
      ]
    },
    {
      "cell_type": "code",
      "source": [
        ""
      ],
      "metadata": {
        "id": "D21ZQFNyn9lX"
      },
      "execution_count": null,
      "outputs": []
    }
  ]
}