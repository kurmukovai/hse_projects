{
  "nbformat": 4,
  "nbformat_minor": 0,
  "metadata": {
    "colab": {
      "name": "Multilabel_dataset_making",
      "provenance": []
    },
    "kernelspec": {
      "name": "python3",
      "display_name": "Python 3"
    },
    "language_info": {
      "name": "python"
    }
  },
  "cells": [
    {
      "cell_type": "code",
      "execution_count": null,
      "metadata": {
        "id": "C0PfpotE0I56"
      },
      "outputs": [],
      "source": [
        "import pandas as pd"
      ]
    },
    {
      "cell_type": "code",
      "source": [
        "!pip install nilearn \n",
        "!pip install transforms3d"
      ],
      "metadata": {
        "colab": {
          "base_uri": "https://localhost:8080/"
        },
        "id": "TzeSKIIKz2I3",
        "outputId": "129116d3-711c-4d45-e0fa-bc1c2a84d688"
      },
      "execution_count": null,
      "outputs": [
        {
          "output_type": "stream",
          "name": "stdout",
          "text": [
            "Collecting nilearn\n",
            "  Downloading nilearn-0.9.0-py3-none-any.whl (10.1 MB)\n",
            "\u001b[K     |████████████████████████████████| 10.1 MB 19.7 MB/s \n",
            "\u001b[?25hRequirement already satisfied: scipy>=1.2 in /usr/local/lib/python3.7/dist-packages (from nilearn) (1.4.1)\n",
            "Requirement already satisfied: joblib>=0.12 in /usr/local/lib/python3.7/dist-packages (from nilearn) (1.1.0)\n",
            "Requirement already satisfied: scikit-learn>=0.21 in /usr/local/lib/python3.7/dist-packages (from nilearn) (1.0.2)\n",
            "Requirement already satisfied: requests>=2 in /usr/local/lib/python3.7/dist-packages (from nilearn) (2.23.0)\n",
            "Requirement already satisfied: pandas>=0.24.0 in /usr/local/lib/python3.7/dist-packages (from nilearn) (1.3.5)\n",
            "Requirement already satisfied: nibabel>=2.5 in /usr/local/lib/python3.7/dist-packages (from nilearn) (3.0.2)\n",
            "Requirement already satisfied: numpy>=1.16 in /usr/local/lib/python3.7/dist-packages (from nilearn) (1.21.5)\n",
            "Requirement already satisfied: pytz>=2017.3 in /usr/local/lib/python3.7/dist-packages (from pandas>=0.24.0->nilearn) (2018.9)\n",
            "Requirement already satisfied: python-dateutil>=2.7.3 in /usr/local/lib/python3.7/dist-packages (from pandas>=0.24.0->nilearn) (2.8.2)\n",
            "Requirement already satisfied: six>=1.5 in /usr/local/lib/python3.7/dist-packages (from python-dateutil>=2.7.3->pandas>=0.24.0->nilearn) (1.15.0)\n",
            "Requirement already satisfied: idna<3,>=2.5 in /usr/local/lib/python3.7/dist-packages (from requests>=2->nilearn) (2.10)\n",
            "Requirement already satisfied: certifi>=2017.4.17 in /usr/local/lib/python3.7/dist-packages (from requests>=2->nilearn) (2021.10.8)\n",
            "Requirement already satisfied: chardet<4,>=3.0.2 in /usr/local/lib/python3.7/dist-packages (from requests>=2->nilearn) (3.0.4)\n",
            "Requirement already satisfied: urllib3!=1.25.0,!=1.25.1,<1.26,>=1.21.1 in /usr/local/lib/python3.7/dist-packages (from requests>=2->nilearn) (1.24.3)\n",
            "Requirement already satisfied: threadpoolctl>=2.0.0 in /usr/local/lib/python3.7/dist-packages (from scikit-learn>=0.21->nilearn) (3.1.0)\n",
            "Installing collected packages: nilearn\n",
            "Successfully installed nilearn-0.9.0\n",
            "Collecting transforms3d\n",
            "  Downloading transforms3d-0.3.1.tar.gz (62 kB)\n",
            "\u001b[K     |████████████████████████████████| 62 kB 1.4 MB/s \n",
            "\u001b[?25hBuilding wheels for collected packages: transforms3d\n",
            "  Building wheel for transforms3d (setup.py) ... \u001b[?25l\u001b[?25hdone\n",
            "  Created wheel for transforms3d: filename=transforms3d-0.3.1-py3-none-any.whl size=59373 sha256=122e22835ca11733af1254f39154878e58a6454934d1f13671ed55c9a8759a01\n",
            "  Stored in directory: /root/.cache/pip/wheels/b5/b7/93/8985551f83720ce37548a5b543c75380bb707955a9c2c5d28c\n",
            "Successfully built transforms3d\n",
            "Installing collected packages: transforms3d\n",
            "Successfully installed transforms3d-0.3.1\n"
          ]
        }
      ]
    },
    {
      "cell_type": "code",
      "source": [
        "import nibabel as nb\n",
        "\n",
        "from pathlib import Path\n",
        "from pprint import pprint\n",
        "\n",
        "\n",
        "import numpy as np \n",
        "from matplotlib import pyplot as plt\n",
        "from nilearn import plotting as nlp # Neiroimage plotting\n",
        "import transforms3d\n",
        "from scipy import ndimage as ndi\n",
        "import nibabel.testing\n",
        "from collections import defaultdict\n",
        "\n",
        "%pylab inline"
      ],
      "metadata": {
        "colab": {
          "base_uri": "https://localhost:8080/"
        },
        "id": "3Wbkarr9ybGX",
        "outputId": "6a8abcc7-1471-4a43-b113-e3bdd5e0fd0e"
      },
      "execution_count": null,
      "outputs": [
        {
          "output_type": "stream",
          "name": "stdout",
          "text": [
            "Populating the interactive namespace from numpy and matplotlib\n"
          ]
        }
      ]
    },
    {
      "cell_type": "code",
      "source": [
        "def append_label(\n",
        "    train_info, \n",
        "    img_data,\n",
        "    img_3d,\n",
        "    xyz, \n",
        "    i_xyz, \n",
        "    coord_1, \n",
        "    coord_2, \n",
        "    img_n, \n",
        "    annot_info,\n",
        "    ):\n",
        "  for i in range(0, img_data.shape[i_xyz]):\n",
        "    train_info['img_name'].append(f\"{img_n}_{xyz}_{i}\")\n",
        "    for label in range(0, 12):\n",
        "      if label in annot_info.keys():\n",
        "        if (\n",
        "            int(annot_info[label][coord_1]) <= i \n",
        "            and int(annot_info[label][coord_2]) >= i\n",
        "            ):\n",
        "          train_info[label].append(1)\n",
        "        else:\n",
        "          train_info[label].append(0)\n",
        "      else:\n",
        "        train_info[label].append(0)\n",
        "\n",
        "  return train_info"
      ],
      "metadata": {
        "id": "qYhZ49vbT3NQ"
      },
      "execution_count": null,
      "outputs": []
    },
    {
      "cell_type": "code",
      "source": [
        "# training\n",
        "indexes = range(0, 28)\n",
        "train_info = defaultdict(list)\n",
        "# img_dict = {}\n",
        "for img_num in indexes:\n",
        "  annot_info = {}\n",
        "  img_vol_path = f\"/content/drive/MyDrive/LITS_all_train/Training Batch 1/volume-{img_num}.nii\"\n",
        "  annot_path = f\"/content/drive/MyDrive/LITS_all_train/annotations_of_training_set/segmentation-{img_num}.txt\"\n",
        "  with open(annot_path) as f:\n",
        "    lines = f.readlines()\n",
        "\n",
        "  for l in lines:\n",
        "    l = l.split(' ')\n",
        "    l[-1] = l[-1][:-1]\n",
        "    annot_info[l[1]] = l[2:]\n",
        "\n",
        "\n",
        "  img_data = nb.load(img_vol_path)\n",
        "  img_3d = img_data.get_fdata()\n",
        "\n",
        "  train_info = append_label(\n",
        "      train_info=train_info,\n",
        "      img_data=img_data,\n",
        "      img_3d=img_3d, \n",
        "      xyz='x', \n",
        "      i_xyz=0, \n",
        "      coord_1=0, \n",
        "      coord_2=1, \n",
        "      img_n=img_num, \n",
        "      annot_info=annot_info\n",
        "  )\n",
        "  train_info = append_label(\n",
        "      train_info=train_info,\n",
        "      img_data=img_data,\n",
        "      img_3d=img_3d, \n",
        "      xyz='y',\n",
        "      i_xyz=1, \n",
        "      coord_1=2, \n",
        "      coord_2=3, \n",
        "      img_n=img_num, \n",
        "      annot_info=annot_info\n",
        "  )\n",
        "  train_info = append_label(\n",
        "      train_info=train_info,\n",
        "      img_data=img_data,\n",
        "      img_3d=img_3d, \n",
        "      xyz='z',\n",
        "      i_xyz=2, \n",
        "      coord_1=4, \n",
        "      coord_2=5, \n",
        "      img_n=img_num, \n",
        "      annot_info=annot_info\n",
        "  )\n",
        "# where keys is coordinates, values is list of labels\n"
      ],
      "metadata": {
        "id": "m_Za8Ntv223t"
      },
      "execution_count": null,
      "outputs": []
    },
    {
      "cell_type": "code",
      "source": [
        "pd.DataFrame(data=train_info).to_csv('/content/drive/MyDrive/LITS_all_train/train_batch_i_multilabel.csv')"
      ],
      "metadata": {
        "id": "qDasO8nUQ7SC"
      },
      "execution_count": null,
      "outputs": []
    }
  ]
}