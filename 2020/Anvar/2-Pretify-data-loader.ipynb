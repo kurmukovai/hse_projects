{
 "cells": [
  {
   "cell_type": "code",
   "execution_count": null,
   "metadata": {},
   "outputs": [],
   "source": [
    "from torch.utils.data import Dataset, DataLoader\n",
    "import numpy as np\n",
    "from pathlib import Path\n",
    "import pandas as pd"
   ]
  },
  {
   "cell_type": "code",
   "execution_count": null,
   "metadata": {},
   "outputs": [],
   "source": [
    "class BraTSDataset(Dataset):\n",
    "    def __init__(self, source_folder: [str, Path], transform=None):\n",
    "        if isinstance(source_folder, str):\n",
    "            source_folder = Path(source_folder)\n",
    "            \n",
    "        self.images = sorted(list(source_folder.glob('*')))\n",
    "        self.transform = transform\n",
    "\n",
    "    def __len__(self):\n",
    "        return len(self.images)\n",
    "\n",
    "    def __getitem__(self, i):\n",
    "        \n",
    "        file_name = self.images[i].stem.split('_')[-1]\n",
    "        slices = list(self.images[i].glob('*'))\n",
    "        slices = [s.stem for s in slices if 'mask' not in s.stem]\n",
    "        np.random.shuffle(slices)\n",
    "        j = slices[0]\n",
    "        \n",
    "        image = np.load(self.images[i] / f'{j}.npy', allow_pickle=True)\n",
    "        mask = np.load(self.images[i] / f'{j}_mask.npy', allow_pickle=True)\n",
    "        sample = image, mask\n",
    "        \n",
    "        if self.transform:\n",
    "            sample = self.transform(sample)\n",
    "\n",
    "        return sample"
   ]
  },
  {
   "cell_type": "code",
   "execution_count": null,
   "metadata": {},
   "outputs": [],
   "source": [
    "data_folder = Path('/home/anvar/work/data/brats_slices/')\n",
    "data = BraTSDataset(data_folder)"
   ]
  },
  {
   "cell_type": "code",
   "execution_count": null,
   "metadata": {},
   "outputs": [],
   "source": [
    "len(data)"
   ]
  },
  {
   "cell_type": "code",
   "execution_count": null,
   "metadata": {},
   "outputs": [],
   "source": [
    "%%timeit\n",
    "\n",
    "data[100]"
   ]
  },
  {
   "cell_type": "code",
   "execution_count": null,
   "metadata": {},
   "outputs": [],
   "source": [
    "import os\n",
    "from tqdm.notebook import tqdm"
   ]
  },
  {
   "cell_type": "markdown",
   "metadata": {},
   "source": [
    "## Create a csv file with important metadata"
   ]
  },
  {
   "cell_type": "code",
   "execution_count": null,
   "metadata": {},
   "outputs": [],
   "source": [
    "data_folder = Path('/home/anvar/work/data/brats_slices/')\n",
    "df = []\n",
    "\n",
    "for path, _, files in tqdm(os.walk(data_folder)):\n",
    "    for file in files:\n",
    "        \n",
    "        subject_id = path.split('/')[-1].split('_')[-1]\n",
    "        slice_id = file.split('.')[0].split('_')[0]\n",
    "        sample_id = f\"{subject_id}_{slice_id}\" # SubjectID_SliceIndex\n",
    "        is_mask = 'mask' in file\n",
    "        if is_mask:\n",
    "            mask = np.load(Path(path) / file, allow_pickle=True)\n",
    "            is_nonzero_mask =  np.any(mask)\n",
    "        else:\n",
    "            is_nonzero_mask = np.nan\n",
    "        \n",
    "        df.append([Path(Path(path).stem) / file, sample_id, is_mask, subject_id, is_nonzero_mask])\n",
    "        \n",
    "df = pd.DataFrame(df, columns = ['relative_path', 'sample_id', 'is_mask', 'subject_id', 'is_nonzero_mask'])\n",
    "print(df.is_nonzero_mask.value_counts())\n",
    "\n",
    "df.to_csv(data_folder / 'meta.csv')"
   ]
  },
  {
   "cell_type": "markdown",
   "metadata": {},
   "source": [
    "> Важное преимущество такого метода в том что вы убираете из класса описывающего ваш датасет\n",
    "низкоуровневую работу со структурой ваших папок на диске, у вас просто есть таблица, в которой для каждого\n",
    "файла указан путь к нему, и набор его id полей (например номер слайса и номер пациента, но могут быть и другие поля)."
   ]
  },
  {
   "cell_type": "code",
   "execution_count": null,
   "metadata": {},
   "outputs": [],
   "source": [
    "df = pd.read_csv(data_folder / 'meta.csv', index_col=0)"
   ]
  },
  {
   "cell_type": "code",
   "execution_count": null,
   "metadata": {},
   "outputs": [],
   "source": [
    "df.head()"
   ]
  },
  {
   "cell_type": "markdown",
   "metadata": {},
   "source": [
    "## Edit BratSDataset class"
   ]
  },
  {
   "cell_type": "code",
   "execution_count": null,
   "metadata": {},
   "outputs": [],
   "source": [
    "class BraTSDataset(Dataset):\n",
    "    def __init__(self, meta: pd.DataFrame, source_folder: [str, Path], transform=None):\n",
    "        if isinstance(source_folder, str):\n",
    "            source_folder = Path(source_folder)\n",
    "            \n",
    "        self.source_folder = source_folder\n",
    "        self.meta_images = meta.query('is_mask == False').sort_values(by='sample_id').reset_index(drop=True)\n",
    "        self.meta_masks = meta.query('is_mask == True').sort_values(by='sample_id').reset_index(drop=True)\n",
    "        self.transform = transform\n",
    "\n",
    "    def __len__(self):\n",
    "        return self.meta_images.shape[0]\n",
    "\n",
    "    def __getitem__(self, i):\n",
    "        image = np.load(self.source_folder / self.meta_images.iloc[i]['relative_path'], allow_pickle=True)\n",
    "        mask = np.load(self.source_folder / self.meta_masks.iloc[i]['relative_path'], allow_pickle=True)\n",
    "        sample = image, mask\n",
    "        \n",
    "        if self.transform:\n",
    "            image, mask = self.transform(sample)\n",
    "\n",
    "        return torch.from_numpy(image).resize(1, 240, 240), torch.from_numpy(mask)"
   ]
  }
 ],
 "metadata": {
  "kernelspec": {
   "display_name": "Python 3",
   "language": "python",
   "name": "python3"
  },
  "language_info": {
   "codemirror_mode": {
    "name": "ipython",
    "version": 3
   },
   "file_extension": ".py",
   "mimetype": "text/x-python",
   "name": "python",
   "nbconvert_exporter": "python",
   "pygments_lexer": "ipython3",
   "version": "3.8.5"
  }
 },
 "nbformat": 4,
 "nbformat_minor": 4
}
