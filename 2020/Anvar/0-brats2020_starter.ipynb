{
 "cells": [
  {
   "cell_type": "code",
   "execution_count": 1,
   "metadata": {},
   "outputs": [],
   "source": [
    "from pathlib import Path"
   ]
  },
  {
   "cell_type": "code",
   "execution_count": 2,
   "metadata": {},
   "outputs": [],
   "source": [
    "folder = Path('/nmnt/media/home/anvar/anvar/data/BraTS2020/MICCAI_BraTS2020_TrainingData')"
   ]
  },
  {
   "cell_type": "code",
   "execution_count": 3,
   "metadata": {},
   "outputs": [
    {
     "data": {
      "text/plain": [
       "[PosixPath('/nmnt/media/home/anvar/anvar/data/BraTS2020/MICCAI_BraTS2020_TrainingData/BraTS20_Training_049'),\n",
       " PosixPath('/nmnt/media/home/anvar/anvar/data/BraTS2020/MICCAI_BraTS2020_TrainingData/BraTS20_Training_098'),\n",
       " PosixPath('/nmnt/media/home/anvar/anvar/data/BraTS2020/MICCAI_BraTS2020_TrainingData/BraTS20_Training_112'),\n",
       " PosixPath('/nmnt/media/home/anvar/anvar/data/BraTS2020/MICCAI_BraTS2020_TrainingData/BraTS20_Training_053'),\n",
       " PosixPath('/nmnt/media/home/anvar/anvar/data/BraTS2020/MICCAI_BraTS2020_TrainingData/BraTS20_Training_102'),\n",
       " PosixPath('/nmnt/media/home/anvar/anvar/data/BraTS2020/MICCAI_BraTS2020_TrainingData/BraTS20_Training_312'),\n",
       " PosixPath('/nmnt/media/home/anvar/anvar/data/BraTS2020/MICCAI_BraTS2020_TrainingData/BraTS20_Training_085'),\n",
       " PosixPath('/nmnt/media/home/anvar/anvar/data/BraTS2020/MICCAI_BraTS2020_TrainingData/BraTS20_Training_066'),\n",
       " PosixPath('/nmnt/media/home/anvar/anvar/data/BraTS2020/MICCAI_BraTS2020_TrainingData/BraTS20_Training_026'),\n",
       " PosixPath('/nmnt/media/home/anvar/anvar/data/BraTS2020/MICCAI_BraTS2020_TrainingData/BraTS20_Training_340')]"
      ]
     },
     "execution_count": 3,
     "metadata": {},
     "output_type": "execute_result"
    }
   ],
   "source": [
    "list(folder.glob('*'))[:10]"
   ]
  },
  {
   "cell_type": "code",
   "execution_count": 4,
   "metadata": {},
   "outputs": [
    {
     "data": {
      "text/plain": [
       "371"
      ]
     },
     "execution_count": 4,
     "metadata": {},
     "output_type": "execute_result"
    }
   ],
   "source": [
    "len(list(folder.glob('*')))"
   ]
  },
  {
   "cell_type": "markdown",
   "metadata": {},
   "source": [
    "# Load"
   ]
  },
  {
   "cell_type": "code",
   "execution_count": 5,
   "metadata": {},
   "outputs": [],
   "source": [
    "# !pip install nibabel\n",
    "# https://nipy.org/nibabel/\n",
    "\n",
    "from nibabel import load"
   ]
  },
  {
   "cell_type": "code",
   "execution_count": 6,
   "metadata": {},
   "outputs": [],
   "source": [
    "img_flair = load(folder / 'BraTS20_Training_002' / 'BraTS20_Training_002_flair.nii.gz')\n",
    "img_t1 = load(folder / 'BraTS20_Training_002' / 'BraTS20_Training_002_t1.nii.gz')\n",
    "img_t2 = load(folder / 'BraTS20_Training_002' / 'BraTS20_Training_002_t2.nii.gz')\n",
    "img_t1c = load(folder / 'BraTS20_Training_002' / 'BraTS20_Training_002_t1ce.nii.gz')\n",
    "mask = load(folder / 'BraTS20_Training_002' / 'BraTS20_Training_002_seg.nii.gz')"
   ]
  },
  {
   "cell_type": "code",
   "execution_count": 7,
   "metadata": {},
   "outputs": [],
   "source": [
    "pixel_array_flair = img_flair.get_fdata()\n",
    "pixel_array_t1 = img_t1.get_fdata()\n",
    "pixel_array_t2 = img_t2.get_fdata()\n",
    "pixel_array_t1c = img_t1c.get_fdata()\n",
    "pixel_array_mask = mask.get_fdata()"
   ]
  },
  {
   "cell_type": "markdown",
   "metadata": {},
   "source": [
    "# Visualize"
   ]
  },
  {
   "cell_type": "code",
   "execution_count": 8,
   "metadata": {},
   "outputs": [],
   "source": [
    "# !pip install deep-pip\n",
    "# or from github\n",
    "# https://github.com/neuro-ml/deep_pipe\n",
    "\n",
    "from dpipe.im.visualize import slice3d"
   ]
  },
  {
   "cell_type": "code",
   "execution_count": 9,
   "metadata": {},
   "outputs": [
    {
     "data": {
      "application/vnd.jupyter.widget-view+json": {
       "model_id": "ed121994504b41a59a625dc395e3d987",
       "version_major": 2,
       "version_minor": 0
      },
      "text/plain": [
       "interactive(children=(IntSlider(value=0, continuous_update=False, description='idx', max=154), Output()), _dom…"
      ]
     },
     "metadata": {},
     "output_type": "display_data"
    }
   ],
   "source": [
    "slice3d(pixel_array_flair, pixel_array_t1,\n",
    "        pixel_array_t2, pixel_array_t1c, \n",
    "        pixel_array_mask, pixel_array_mask.astype(bool),\n",
    "        max_columns=2)"
   ]
  },
  {
   "cell_type": "markdown",
   "metadata": {},
   "source": [
    "# Rescale"
   ]
  },
  {
   "cell_type": "code",
   "execution_count": 10,
   "metadata": {},
   "outputs": [],
   "source": [
    "from skimage.transform import rescale"
   ]
  },
  {
   "cell_type": "code",
   "execution_count": 11,
   "metadata": {},
   "outputs": [],
   "source": [
    "img_rescale = rescale(pixel_array_t2, 0.5)\n",
    "mask_rescale = rescale(pixel_array_mask, 0.5)"
   ]
  },
  {
   "cell_type": "code",
   "execution_count": 12,
   "metadata": {},
   "outputs": [
    {
     "data": {
      "text/plain": [
       "(120, 120, 78)"
      ]
     },
     "execution_count": 12,
     "metadata": {},
     "output_type": "execute_result"
    }
   ],
   "source": [
    "img_rescale.shape"
   ]
  },
  {
   "cell_type": "code",
   "execution_count": 13,
   "metadata": {},
   "outputs": [
    {
     "data": {
      "application/vnd.jupyter.widget-view+json": {
       "model_id": "8879bc94a2af4d039c9bd1f27427f0c5",
       "version_major": 2,
       "version_minor": 0
      },
      "text/plain": [
       "interactive(children=(IntSlider(value=0, continuous_update=False, description='idx', max=154), Output()), _dom…"
      ]
     },
     "metadata": {},
     "output_type": "display_data"
    }
   ],
   "source": [
    "slice3d(pixel_array_t2, pixel_array_mask)"
   ]
  },
  {
   "cell_type": "code",
   "execution_count": 14,
   "metadata": {},
   "outputs": [
    {
     "data": {
      "application/vnd.jupyter.widget-view+json": {
       "model_id": "a54832338105469fb60749b5e1f0473d",
       "version_major": 2,
       "version_minor": 0
      },
      "text/plain": [
       "interactive(children=(IntSlider(value=0, continuous_update=False, description='idx', max=77), Output()), _dom_…"
      ]
     },
     "metadata": {},
     "output_type": "display_data"
    }
   ],
   "source": [
    "slice3d(img_rescale,mask_rescale.astype(bool))"
   ]
  },
  {
   "cell_type": "code",
   "execution_count": null,
   "metadata": {},
   "outputs": [],
   "source": []
  },
  {
   "cell_type": "code",
   "execution_count": null,
   "metadata": {},
   "outputs": [],
   "source": []
  }
 ],
 "metadata": {
  "kernelspec": {
   "display_name": "Python 3",
   "language": "python",
   "name": "python3"
  },
  "language_info": {
   "codemirror_mode": {
    "name": "ipython",
    "version": 3
   },
   "file_extension": ".py",
   "mimetype": "text/x-python",
   "name": "python",
   "nbconvert_exporter": "python",
   "pygments_lexer": "ipython3",
   "version": "3.8.5"
  }
 },
 "nbformat": 4,
 "nbformat_minor": 4
}
